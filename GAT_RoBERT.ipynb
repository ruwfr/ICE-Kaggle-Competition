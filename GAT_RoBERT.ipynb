{
 "cells": [
  {
   "cell_type": "markdown",
   "metadata": {},
   "source": [
    "## Imports"
   ]
  },
  {
   "cell_type": "code",
   "execution_count": 17,
   "metadata": {},
   "outputs": [],
   "source": [
    "import torch\n",
    "import pandas as pd\n",
    "from sklearn.model_selection import train_test_split\n",
    "import torch.nn as nn\n",
    "import torch.nn.functional as F\n",
    "from transformers import RobertaTokenizer, RobertaModel\n",
    "import numpy as np\n",
    "from sklearn.metrics.pairwise import cosine_similarity\n",
    "from torch.utils.data import DataLoader, TensorDataset\n",
    "import matplotlib.pyplot as plt\n",
    "from sklearn.metrics import accuracy_score"
   ]
  },
  {
   "cell_type": "markdown",
   "metadata": {},
   "source": [
    "## Submission Flag"
   ]
  },
  {
   "cell_type": "code",
   "execution_count": 18,
   "metadata": {},
   "outputs": [],
   "source": [
    "is_submission = False"
   ]
  },
  {
   "cell_type": "markdown",
   "metadata": {},
   "source": [
    "## Read Datasets"
   ]
  },
  {
   "cell_type": "code",
   "execution_count": 19,
   "metadata": {},
   "outputs": [],
   "source": [
    "train_path = r\"data\\train_essays.csv\" if not is_submission else r\"/kaggle/input/llm-detect-ai-generated-text/train_essays.csv\"\n",
    "test_path = r\"data\\test_essays.csv\" if not is_submission else r\"/kaggle/input/llm-detect-ai-generated-text/test_essays.csv\"\n",
    "train_data = pd.read_csv(train_path)\n",
    "test_data = pd.read_csv(test_path)"
   ]
  },
  {
   "cell_type": "code",
   "execution_count": 20,
   "metadata": {},
   "outputs": [],
   "source": [
    "train_texts, test_texts, train_labels, test_labels = train_test_split(train_data['text'].values, train_data['generated'].values, test_size=0.33, random_state=42)"
   ]
  },
  {
   "cell_type": "markdown",
   "metadata": {},
   "source": [
    "## Tokenize Text"
   ]
  },
  {
   "cell_type": "code",
   "execution_count": 21,
   "metadata": {},
   "outputs": [
    {
     "name": "stderr",
     "output_type": "stream",
     "text": [
      "Some weights of RobertaModel were not initialized from the model checkpoint at roberta-base and are newly initialized: ['roberta.pooler.dense.weight', 'roberta.pooler.dense.bias']\n",
      "You should probably TRAIN this model on a down-stream task to be able to use it for predictions and inference.\n",
      "Token indices sequence length is longer than the specified maximum sequence length for this model (579 > 512). Running this sequence through the model will result in indexing errors\n"
     ]
    }
   ],
   "source": [
    "# Initialize RoBERTa tokenizer and model\n",
    "tokenizer = RobertaTokenizer.from_pretrained('roberta-base')\n",
    "roberta = RobertaModel.from_pretrained('roberta-base')\n",
    "\n",
    "# Tokenize the text data\n",
    "train_tokenized_texts = [tokenizer.encode(text, add_special_tokens=True, return_tensors='pt')[0] for text in train_texts]\n",
    "test_tokenized_texts = [tokenizer.encode(text, add_special_tokens=True, return_tensors='pt')[0] for text in test_texts]\n"
   ]
  },
  {
   "cell_type": "code",
   "execution_count": 24,
   "metadata": {},
   "outputs": [],
   "source": [
    "# Get the maximum sequence length\n",
    "max_len = max(max(len(tokenized_text) for tokenized_text in train_tokenized_texts),\n",
    "              max(len(tokenized_text) for tokenized_text in test_tokenized_texts))\n",
    "\n",
    "# Pad tokenized sequences to the maximum length\n",
    "padded_train_tokenized_texts = [torch.cat((tokenized_text, torch.zeros((max_len - tokenized_text.shape[0]), dtype=torch.long)))[:max_len] for tokenized_text in train_tokenized_texts]\n",
    "padded_test_tokenized_texts = [torch.cat((tokenized_text, torch.zeros((max_len - tokenized_text.shape[0]), dtype=torch.long)))[:max_len] for tokenized_text in test_tokenized_texts]\n",
    "\n",
    "# Convert to PyTorch tensors\n",
    "train_input_ids = torch.stack(padded_train_tokenized_texts)\n",
    "test_input_ids = torch.stack(padded_test_tokenized_texts)\n",
    "\n",
    "train_labels = torch.tensor(train_labels)\n",
    "test_labels = torch.tensor(test_labels)\n",
    "\n",
    "# Create TensorDataset\n",
    "train_dataset = TensorDataset(train_input_ids, train_labels)\n",
    "test_dataset = TensorDataset(test_input_ids, test_labels)\n"
   ]
  },
  {
   "cell_type": "markdown",
   "metadata": {},
   "source": [
    "## Define Model"
   ]
  },
  {
   "cell_type": "code",
   "execution_count": 25,
   "metadata": {},
   "outputs": [],
   "source": [
    "class GATLayer(nn.Module):\n",
    "    def __init__(self, in_dim, out_dim):\n",
    "        super(GATLayer, self).__init__()\n",
    "        self.W = nn.Linear(in_dim, out_dim)\n",
    "        self.a = nn.Linear(2 * out_dim, 1)\n",
    "\n",
    "    def forward(self, h, adj):\n",
    "        Wh = self.W(h)\n",
    "        a_input = self.prepare_attention_input(Wh)\n",
    "        e = self.leaky_relu(self.a(a_input).squeeze(-1))\n",
    "        attention = self.softmax(e, adj)\n",
    "        h_prime = self.aggregate(Wh, attention)\n",
    "        return h_prime\n",
    "\n",
    "    def prepare_attention_input(self, Wh):\n",
    "        N = Wh.size(0)\n",
    "        Wh_repeated_in_chunks = Wh.repeat_interleave(N, dim=0)\n",
    "        Wh_repeated_alternating = Wh.repeat(N, 1)\n",
    "        a_input = torch.cat([Wh_repeated_in_chunks, Wh_repeated_alternating], dim=1)\n",
    "        return a_input\n",
    "\n",
    "    def leaky_relu(self, input_tensor, alpha=0.2):\n",
    "        return F.leaky_relu(input_tensor, alpha)\n",
    "\n",
    "    def softmax(self, e, adj):\n",
    "        attention = e.view(-1, 1)\n",
    "        attention = torch.exp(attention - torch.max(attention))\n",
    "        attention = attention * adj\n",
    "        attention = attention / (torch.sum(attention, dim=1, keepdim=True) + 1e-7)\n",
    "        return attention\n",
    "\n",
    "    def aggregate(self, Wh, attention):\n",
    "        return torch.matmul(attention, Wh)\n",
    "\n",
    "class GAT(nn.Module):\n",
    "    def __init__(self, in_dim, hidden_dim, out_dim, num_heads):\n",
    "        super(GAT, self).__init__()\n",
    "        self.attention_heads = nn.ModuleList([\n",
    "            GATLayer(in_dim, hidden_dim) for _ in range(num_heads)\n",
    "        ])\n",
    "        self.out_layer = nn.Linear(hidden_dim * num_heads, out_dim)\n",
    "\n",
    "    def forward(self, h, adj):\n",
    "        head_outs = [attn_head(h, adj) for attn_head in self.attention_heads]\n",
    "        concat_heads = torch.cat(head_outs, dim=1)\n",
    "        out = self.out_layer(concat_heads)\n",
    "        return out\n",
    "\n",
    "# Define the GAT model\n",
    "model = GAT(in_dim=roberta.config.hidden_size, hidden_dim=64, out_dim=1, num_heads=2)"
   ]
  },
  {
   "cell_type": "markdown",
   "metadata": {},
   "source": [
    "## Train Model"
   ]
  },
  {
   "cell_type": "code",
   "execution_count": 26,
   "metadata": {},
   "outputs": [],
   "source": [
    "# Assuming tokenized_train_texts is a list of lists, each containing token IDs\n",
    "num_texts = len(padded_train_tokenized_texts)\n",
    "adjacency_matrix = np.zeros((num_texts, num_texts))\n",
    "\n",
    "# Calculate shared tokens between texts\n",
    "for i in range(num_texts):\n",
    "    for j in range(num_texts):\n",
    "        shared_tokens = set(padded_train_tokenized_texts[i]) & set(padded_train_tokenized_texts[j])\n",
    "        similarity_score = len(shared_tokens)\n",
    "        adjacency_matrix[i][j] = similarity_score\n",
    "\n",
    "print(adjacency_matrix)"
   ]
  },
  {
   "cell_type": "code",
   "execution_count": 16,
   "metadata": {},
   "outputs": [
    {
     "ename": "TypeError",
     "evalue": "list indices must be integers or slices, not tuple",
     "output_type": "error",
     "traceback": [
      "\u001b[1;31m---------------------------------------------------------------------------\u001b[0m",
      "\u001b[1;31mTypeError\u001b[0m                                 Traceback (most recent call last)",
      "Cell \u001b[1;32mIn[16], line 4\u001b[0m\n\u001b[0;32m      1\u001b[0m \u001b[39m# Forward pass\u001b[39;00m\n\u001b[0;32m      2\u001b[0m \u001b[39m# Forward pass through RoBERTa\u001b[39;00m\n\u001b[0;32m      3\u001b[0m \u001b[39mwith\u001b[39;00m torch\u001b[39m.\u001b[39mno_grad():\n\u001b[1;32m----> 4\u001b[0m     outputs \u001b[39m=\u001b[39m roberta(padded_tokenized_texts)\n\u001b[0;32m      5\u001b[0m     last_hidden_states \u001b[39m=\u001b[39m outputs\u001b[39m.\u001b[39mlast_hidden_state\n\u001b[0;32m      7\u001b[0m \u001b[39m# Forward pass through your GAT model\u001b[39;00m\n",
      "File \u001b[1;32mc:\\Git\\kaggle\\.venv\\lib\\site-packages\\torch\\nn\\modules\\module.py:1518\u001b[0m, in \u001b[0;36mModule._wrapped_call_impl\u001b[1;34m(self, *args, **kwargs)\u001b[0m\n\u001b[0;32m   1516\u001b[0m     \u001b[39mreturn\u001b[39;00m \u001b[39mself\u001b[39m\u001b[39m.\u001b[39m_compiled_call_impl(\u001b[39m*\u001b[39margs, \u001b[39m*\u001b[39m\u001b[39m*\u001b[39mkwargs)  \u001b[39m# type: ignore[misc]\u001b[39;00m\n\u001b[0;32m   1517\u001b[0m \u001b[39melse\u001b[39;00m:\n\u001b[1;32m-> 1518\u001b[0m     \u001b[39mreturn\u001b[39;00m \u001b[39mself\u001b[39m\u001b[39m.\u001b[39m_call_impl(\u001b[39m*\u001b[39margs, \u001b[39m*\u001b[39m\u001b[39m*\u001b[39mkwargs)\n",
      "File \u001b[1;32mc:\\Git\\kaggle\\.venv\\lib\\site-packages\\torch\\nn\\modules\\module.py:1527\u001b[0m, in \u001b[0;36mModule._call_impl\u001b[1;34m(self, *args, **kwargs)\u001b[0m\n\u001b[0;32m   1522\u001b[0m \u001b[39m# If we don't have any hooks, we want to skip the rest of the logic in\u001b[39;00m\n\u001b[0;32m   1523\u001b[0m \u001b[39m# this function, and just call forward.\u001b[39;00m\n\u001b[0;32m   1524\u001b[0m \u001b[39mif\u001b[39;00m \u001b[39mnot\u001b[39;00m (\u001b[39mself\u001b[39m\u001b[39m.\u001b[39m_backward_hooks \u001b[39mor\u001b[39;00m \u001b[39mself\u001b[39m\u001b[39m.\u001b[39m_backward_pre_hooks \u001b[39mor\u001b[39;00m \u001b[39mself\u001b[39m\u001b[39m.\u001b[39m_forward_hooks \u001b[39mor\u001b[39;00m \u001b[39mself\u001b[39m\u001b[39m.\u001b[39m_forward_pre_hooks\n\u001b[0;32m   1525\u001b[0m         \u001b[39mor\u001b[39;00m _global_backward_pre_hooks \u001b[39mor\u001b[39;00m _global_backward_hooks\n\u001b[0;32m   1526\u001b[0m         \u001b[39mor\u001b[39;00m _global_forward_hooks \u001b[39mor\u001b[39;00m _global_forward_pre_hooks):\n\u001b[1;32m-> 1527\u001b[0m     \u001b[39mreturn\u001b[39;00m forward_call(\u001b[39m*\u001b[39margs, \u001b[39m*\u001b[39m\u001b[39m*\u001b[39mkwargs)\n\u001b[0;32m   1529\u001b[0m \u001b[39mtry\u001b[39;00m:\n\u001b[0;32m   1530\u001b[0m     result \u001b[39m=\u001b[39m \u001b[39mNone\u001b[39;00m\n",
      "File \u001b[1;32mc:\\Git\\kaggle\\.venv\\lib\\site-packages\\transformers\\models\\roberta\\modeling_roberta.py:782\u001b[0m, in \u001b[0;36mRobertaModel.forward\u001b[1;34m(self, input_ids, attention_mask, token_type_ids, position_ids, head_mask, inputs_embeds, encoder_hidden_states, encoder_attention_mask, past_key_values, use_cache, output_attentions, output_hidden_states, return_dict)\u001b[0m\n\u001b[0;32m    780\u001b[0m     \u001b[39mraise\u001b[39;00m \u001b[39mValueError\u001b[39;00m(\u001b[39m\"\u001b[39m\u001b[39mYou cannot specify both input_ids and inputs_embeds at the same time\u001b[39m\u001b[39m\"\u001b[39m)\n\u001b[0;32m    781\u001b[0m \u001b[39melif\u001b[39;00m input_ids \u001b[39mis\u001b[39;00m \u001b[39mnot\u001b[39;00m \u001b[39mNone\u001b[39;00m:\n\u001b[1;32m--> 782\u001b[0m     \u001b[39mself\u001b[39;49m\u001b[39m.\u001b[39;49mwarn_if_padding_and_no_attention_mask(input_ids, attention_mask)\n\u001b[0;32m    783\u001b[0m     input_shape \u001b[39m=\u001b[39m input_ids\u001b[39m.\u001b[39msize()\n\u001b[0;32m    784\u001b[0m \u001b[39melif\u001b[39;00m inputs_embeds \u001b[39mis\u001b[39;00m \u001b[39mnot\u001b[39;00m \u001b[39mNone\u001b[39;00m:\n",
      "File \u001b[1;32mc:\\Git\\kaggle\\.venv\\lib\\site-packages\\transformers\\modeling_utils.py:4116\u001b[0m, in \u001b[0;36mPreTrainedModel.warn_if_padding_and_no_attention_mask\u001b[1;34m(self, input_ids, attention_mask)\u001b[0m\n\u001b[0;32m   4113\u001b[0m     \u001b[39mreturn\u001b[39;00m\n\u001b[0;32m   4115\u001b[0m \u001b[39m# Check only the first and last input IDs to reduce overhead.\u001b[39;00m\n\u001b[1;32m-> 4116\u001b[0m \u001b[39mif\u001b[39;00m \u001b[39mself\u001b[39m\u001b[39m.\u001b[39mconfig\u001b[39m.\u001b[39mpad_token_id \u001b[39min\u001b[39;00m input_ids[:, [\u001b[39m-\u001b[39;49m\u001b[39m1\u001b[39;49m, \u001b[39m0\u001b[39;49m]]:\n\u001b[0;32m   4117\u001b[0m     warn_string \u001b[39m=\u001b[39m (\n\u001b[0;32m   4118\u001b[0m         \u001b[39m\"\u001b[39m\u001b[39mWe strongly recommend passing in an `attention_mask` since your input_ids may be padded. See \u001b[39m\u001b[39m\"\u001b[39m\n\u001b[0;32m   4119\u001b[0m         \u001b[39m\"\u001b[39m\u001b[39mhttps://huggingface.co/docs/transformers/troubleshooting\u001b[39m\u001b[39m\"\u001b[39m\n\u001b[0;32m   4120\u001b[0m         \u001b[39m\"\u001b[39m\u001b[39m#incorrect-output-when-padding-tokens-arent-masked.\u001b[39m\u001b[39m\"\u001b[39m\n\u001b[0;32m   4121\u001b[0m     )\n\u001b[0;32m   4123\u001b[0m     \u001b[39m# If the pad token is equal to either BOS, EOS, or SEP, we do not know whether the user should use an\u001b[39;00m\n\u001b[0;32m   4124\u001b[0m     \u001b[39m# attention_mask or not. In this case, we should still show a warning because this is a rare case.\u001b[39;00m\n",
      "\u001b[1;31mTypeError\u001b[0m: list indices must be integers or slices, not tuple"
     ]
    }
   ],
   "source": [
    "# Training configurations\n",
    "num_epochs = 10\n",
    "optimizer = torch.optim.Adam(model.parameters(), lr=0.001)\n",
    "criterion = nn.BCEWithLogitsLoss()\n",
    "\n",
    "# DataLoader setup\n",
    "batch_size = 32  # Adjust batch size as needed\n",
    "train_loader = DataLoader(train_dataset, batch_size=batch_size, shuffle=True)\n",
    "test_loader = DataLoader(test_dataset, batch_size=batch_size, shuffle=False)\n",
    "\n",
    "# Lists to store accuracy values during training\n",
    "train_accuracy_values = []\n",
    "\n",
    "# Training loop\n",
    "for epoch in range(num_epochs):\n",
    "    model.train()  # Set the model to train mode\n",
    "    \n",
    "    epoch_losses = []\n",
    "    predicted_labels = []\n",
    "    true_labels = []\n",
    "    \n",
    "    for input_ids_batch, labels_batch in train_loader:  # Iterate over batches\n",
    "        optimizer.zero_grad()  # Clear gradients\n",
    "        \n",
    "        # Forward pass\n",
    "        with torch.no_grad():\n",
    "            outputs = roberta(input_ids_batch)\n",
    "            last_hidden_states = outputs.last_hidden_state\n",
    "            \n",
    "        output = model(last_hidden_states, adjacency_matrix)\n",
    "        \n",
    "        # Compute loss\n",
    "        loss = criterion(output.squeeze(), labels_batch.float())\n",
    "        epoch_losses.append(loss.item())\n",
    "        \n",
    "        # Calculate accuracy\n",
    "        predicted = (torch.sigmoid(output) > 0.5).detach().cpu().numpy().astype(int)\n",
    "        true = labels_batch.cpu().numpy()\n",
    "        predicted_labels.extend(predicted)\n",
    "        true_labels.extend(true)\n",
    "    \n",
    "        # Backpropagation\n",
    "        loss.backward()\n",
    "        optimizer.step()\n",
    "    \n",
    "    # Calculate accuracy for the epoch\n",
    "    accuracy = accuracy_score(true_labels, predicted_labels)\n",
    "    train_accuracy_values.append(accuracy)\n",
    "    \n",
    "    # Print epoch loss and accuracy\n",
    "    print(f\"Epoch [{epoch + 1}/{num_epochs}] Loss: {np.mean(epoch_losses):.4f} Accuracy: {accuracy:.4f}\")\n",
    "\n",
    "# Plotting accuracy\n",
    "plt.figure(figsize=(8, 6))\n",
    "plt.plot(range(1, num_epochs + 1), train_accuracy_values, label='Training Accuracy')\n",
    "plt.title('Training Accuracy Over Epochs')\n",
    "plt.xlabel('Epochs')\n",
    "plt.ylabel('Accuracy')\n",
    "plt.legend()\n",
    "plt.show()"
   ]
  },
  {
   "cell_type": "markdown",
   "metadata": {},
   "source": [
    "## Predict Test Set"
   ]
  },
  {
   "cell_type": "code",
   "execution_count": null,
   "metadata": {},
   "outputs": [],
   "source": []
  },
  {
   "cell_type": "markdown",
   "metadata": {},
   "source": [
    "## Create Submission"
   ]
  },
  {
   "cell_type": "code",
   "execution_count": null,
   "metadata": {},
   "outputs": [],
   "source": [
    "submission = pd.DataFrame({\"id\": test_data[\"id\"], \"generated\": predictions})\n",
    "submission_path = r\"data\\submission.csv\" if not is_submission else r\"/kaggle/working/submission.csv\"\n",
    "submission.to_csv(submission_path, index=False)"
   ]
  }
 ],
 "metadata": {
  "kernelspec": {
   "display_name": "venv",
   "language": "python",
   "name": "python3"
  },
  "language_info": {
   "codemirror_mode": {
    "name": "ipython",
    "version": 3
   },
   "file_extension": ".py",
   "mimetype": "text/x-python",
   "name": "python",
   "nbconvert_exporter": "python",
   "pygments_lexer": "ipython3",
   "version": "3.10.11"
  }
 },
 "nbformat": 4,
 "nbformat_minor": 2
}
