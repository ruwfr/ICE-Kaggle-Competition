{
 "cells": [
  {
   "cell_type": "code",
   "execution_count": 30,
   "metadata": {},
   "outputs": [],
   "source": [
    "from openai import OpenAI\n",
    "import pandas as pd\n",
    "import os\n",
    "import uuid\n",
    "import random"
   ]
  },
  {
   "cell_type": "code",
   "execution_count": 28,
   "metadata": {},
   "outputs": [
    {
     "data": {
      "text/plain": [
       "(2, 4)"
      ]
     },
     "execution_count": 28,
     "metadata": {},
     "output_type": "execute_result"
    }
   ],
   "source": [
    "prompts = pd.read_csv(os.path.join(\"data\", \"train_prompts.csv\"))"
   ]
  },
  {
   "cell_type": "code",
   "execution_count": 32,
   "metadata": {},
   "outputs": [
    {
     "data": {
      "text/plain": [
       "[25, 18, 26, 21, 14]"
      ]
     },
     "execution_count": 32,
     "metadata": {},
     "output_type": "execute_result"
    }
   ],
   "source": [
    "random.seed(12)\n",
    "seeds = random.sample(range(10, 30), 5)\n",
    "seeds"
   ]
  },
  {
   "cell_type": "code",
   "execution_count": 21,
   "metadata": {},
   "outputs": [
    {
     "data": {
      "text/plain": [
       "'a0b7bdde'"
      ]
     },
     "execution_count": 21,
     "metadata": {},
     "output_type": "execute_result"
    }
   ],
   "source": [
    "train_essays_chat_gpt = pd.DataFrame(columns=[\"id\", \"prompt_id\" , \"text\" , \"generated\"])"
   ]
  },
  {
   "cell_type": "code",
   "execution_count": 34,
   "metadata": {},
   "outputs": [],
   "source": [
    "client = OpenAI()\n",
    "\n",
    "for _, prompt in prompts.iterrows():\n",
    "  for seed in seeds:\n",
    "    text = client.chat.completions.create(\n",
    "      seed=seed,\n",
    "      model=\"gpt-4\",\n",
    "      messages=[\n",
    "        {\"role\": \"user\", \"content\": f\"{prompt['instructions']}\"}\n",
    "      ]\n",
    "    ).choices[0].message.content\n",
    "    treain_essay= pd.DataFrame([{\"id\": uuid.uuid4().hex[:8], \"prompt_id\": prompt['prompt_id'], \"text\": text, \"generated\": 1}])\n",
    "    train_essays_chat_gpt = pd.concat([train_essays_chat_gpt, treain_essay], ignore_index=True)\n",
    "\n",
    "train_essays_chat_gpt.to_csv(os.path.join(\"data\", \"train_essays_chat-gpt.csv\"))"
   ]
  }
 ],
 "metadata": {
  "kernelspec": {
   "display_name": "venv",
   "language": "python",
   "name": "python3"
  },
  "language_info": {
   "codemirror_mode": {
    "name": "ipython",
    "version": 3
   },
   "file_extension": ".py",
   "mimetype": "text/x-python",
   "name": "python",
   "nbconvert_exporter": "python",
   "pygments_lexer": "ipython3",
   "version": "3.11.4"
  }
 },
 "nbformat": 4,
 "nbformat_minor": 2
}
