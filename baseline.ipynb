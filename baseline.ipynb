{
 "cells": [
  {
   "cell_type": "code",
   "execution_count": null,
   "metadata": {},
   "outputs": [],
   "source": [
    "import os\n",
    "\n",
    "import pandas as pd\n",
    "from sklearn.feature_extraction.text import TfidfVectorizer\n",
    "from sklearn.linear_model import SGDClassifier\n",
    "from sklearn.ensemble import VotingClassifier"
   ]
  },
  {
   "cell_type": "code",
   "execution_count": null,
   "metadata": {},
   "outputs": [],
   "source": [
    "train_data = pd.read_csv(os.path.join(\"data\", \"train_essays.csv\"))\n",
    "prompt_data = pd.read_csv(os.path.join(\"data\", \"train_prompts.csv\"))\n",
    "train_data.head()"
   ]
  },
  {
   "cell_type": "code",
   "execution_count": null,
   "metadata": {},
   "outputs": [],
   "source": [
    "vectorizer = TfidfVectorizer()\n",
    "vectorized_train_data = vectorizer.fit_transform(train_data[\"text\"])\n",
    "vectorized_train_data"
   ]
  },
  {
   "cell_type": "code",
   "execution_count": null,
   "metadata": {},
   "outputs": [],
   "source": [
    "sgd_model1 = SGDClassifier(max_iter=5000, tol=1e-3, loss=\"modified_huber\") \n",
    "sgd_model2 = SGDClassifier(max_iter=5000, tol=1e-3, loss=\"modified_huber\", class_weight=\"balanced\")\n",
    "sgd_model3 = SGDClassifier(max_iter=10000, tol=5e-4, loss=\"modified_huber\", early_stopping=True)"
   ]
  },
  {
   "cell_type": "code",
   "execution_count": null,
   "metadata": {},
   "outputs": [],
   "source": [
    "model = VotingClassifier(estimators=[(\"sgd1\", sgd_model1), (\"sgd2\", sgd_model2),(\"sgd3\", sgd_model3)], voting=\"soft\")"
   ]
  },
  {
   "cell_type": "code",
   "execution_count": null,
   "metadata": {},
   "outputs": [],
   "source": [
    "model.fit(vectorized_train_data, train_data[\"generated\"])\n",
    "predictions = model.predict(vectorized_train_data)\n",
    "submission = pd.DataFrame({\"id\": train_data[\"id\"], \"generated\": predictions})\n",
    "submission.head()"
   ]
  }
 ],
 "metadata": {
  "kernelspec": {
   "display_name": "venv",
   "language": "python",
   "name": "python3"
  },
  "language_info": {
   "codemirror_mode": {
    "name": "ipython",
    "version": 3
   },
   "file_extension": ".py",
   "mimetype": "text/x-python",
   "name": "python",
   "nbconvert_exporter": "python",
   "pygments_lexer": "ipython3",
   "version": "3.11.4"
  }
 },
 "nbformat": 4,
 "nbformat_minor": 2
}
